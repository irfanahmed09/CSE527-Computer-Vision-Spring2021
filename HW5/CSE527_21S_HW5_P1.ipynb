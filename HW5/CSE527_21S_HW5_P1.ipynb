{
  "nbformat": 4,
  "nbformat_minor": 0,
  "metadata": {
    "anaconda-cloud": {},
    "colab": {
      "name": "CSE527-21S-HW5-P1.ipynb",
      "provenance": [],
      "collapsed_sections": []
    },
    "kernelspec": {
      "display_name": "Python 3",
      "language": "python",
      "name": "python3"
    },
    "language_info": {
      "codemirror_mode": {
        "name": "ipython",
        "version": 3
      },
      "file_extension": ".py",
      "mimetype": "text/x-python",
      "name": "python",
      "nbconvert_exporter": "python",
      "pygments_lexer": "ipython3",
      "version": "3.8.5"
    },
    "name": "HW3.ipynb"
  },
  "cells": [
    {
      "cell_type": "markdown",
      "metadata": {
        "ein.tags": "worksheet-0",
        "id": "hVwJj1nUL4lx"
      },
      "source": [
        "# CSE527 Homework 5\n",
        "**Due date: 23:59 on May 8, 2021 (Saturday)**\n",
        "\n",
        "In this semester, we will use Google Colab for the assignments, which allows us to utilize resources that some of us might not have in their local machines such as GPUs. You will need to use your Stony Brook (*.stonybrook.edu) account for coding and Google Drive to save your results.\n",
        "\n",
        "## Google Colab Tutorial\n",
        "---\n",
        "Go to https://colab.research.google.com/notebooks/, you will see a tutorial named \"Welcome to Colaboratory\" file, where you can learn the basics of using google colab.\n",
        "\n",
        "Settings used for assignments: ***Edit -> Notebook Settings -> Runtime Type (Python 3)***.\n",
        "\n",
        "\n",
        "\n",
        "\n",
        "\n"
      ]
    },
    {
      "cell_type": "code",
      "metadata": {
        "colab": {
          "base_uri": "https://localhost:8080/"
        },
        "id": "k4dhRR_119C4",
        "outputId": "8ae6a25f-902d-4276-970e-f5bf9634add3"
      },
      "source": [
        "pip install opencv-contrib-python==3.4.2.17"
      ],
      "execution_count": null,
      "outputs": [
        {
          "output_type": "stream",
          "text": [
            "Collecting opencv-contrib-python==3.4.2.17\n",
            "\u001b[?25l  Downloading https://files.pythonhosted.org/packages/12/32/8d32d40cd35e61c80cb112ef5e8dbdcfbb06124f36a765df98517a12e753/opencv_contrib_python-3.4.2.17-cp37-cp37m-manylinux1_x86_64.whl (30.6MB)\n",
            "\u001b[K     |████████████████████████████████| 30.6MB 153kB/s \n",
            "\u001b[?25hRequirement already satisfied: numpy>=1.14.5 in /usr/local/lib/python3.7/dist-packages (from opencv-contrib-python==3.4.2.17) (1.19.5)\n",
            "Installing collected packages: opencv-contrib-python\n",
            "  Found existing installation: opencv-contrib-python 4.1.2.30\n",
            "    Uninstalling opencv-contrib-python-4.1.2.30:\n",
            "      Successfully uninstalled opencv-contrib-python-4.1.2.30\n",
            "Successfully installed opencv-contrib-python-3.4.2.17\n"
          ],
          "name": "stdout"
        }
      ]
    },
    {
      "cell_type": "code",
      "metadata": {
        "colab": {
          "base_uri": "https://localhost:8080/"
        },
        "id": "VRU7ngb-2Jye",
        "outputId": "a4858ddd-f69d-4ed8-f2c5-854eacfe019f"
      },
      "source": [
        "# Mount your google drive where you've saved your assignment folder\n",
        "from google.colab import drive\n",
        "drive.mount('/content/gdrive')"
      ],
      "execution_count": null,
      "outputs": [
        {
          "output_type": "stream",
          "text": [
            "Mounted at /content/gdrive\n"
          ],
          "name": "stdout"
        }
      ]
    },
    {
      "cell_type": "code",
      "metadata": {
        "colab": {
          "base_uri": "https://localhost:8080/"
        },
        "id": "LjAojc6I2QIa",
        "outputId": "72e74611-2403-4f56-c2dc-76785f37a715"
      },
      "source": [
        "# Set your working directory (in your google drive)\n",
        "#   change it to your specific homework directory.\n",
        "%cd gdrive/MyDrive/CSE527_S21/Ahmed_Irfan_113166464_hw5/\n"
      ],
      "execution_count": null,
      "outputs": [
        {
          "output_type": "stream",
          "text": [
            "/content/gdrive/MyDrive/CSE527_S21/Ahmed_Irfan_113166464_hw5\n"
          ],
          "name": "stdout"
        }
      ]
    },
    {
      "cell_type": "markdown",
      "metadata": {
        "id": "p-UnOMINVrKQ"
      },
      "source": [
        "## Problem 1: Ray casting using Blinn-Phong model\n",
        "\n",
        "\n",
        "## Description\n",
        "----\n",
        "In this problem, you will be estimating the camera captured image given the camera parameters, scene geometry, lighting and materials using \n",
        "[Blinn-Phong illumination model](https://dl.acm.org/doi/abs/10.1145/563858.563893), an improved version of [Phong illumination model](https://dl.acm.org/doi/abs/10.1145/360825.360839).\n",
        "\n",
        "The six parts below will guide you to render an image using ray casting and Phong model step by step."
      ]
    },
    {
      "cell_type": "code",
      "metadata": {
        "colab": {
          "base_uri": "https://localhost:8080/"
        },
        "id": "TxrQ1z4sObHr",
        "outputId": "787620a2-6aa1-4ae9-9aed-3d9d40debc7d"
      },
      "source": [
        "# import packages here\n",
        "import numpy as np\n",
        "import cv2 as cv\n",
        "from math import sqrt, fmod, pi\n",
        "import matplotlib.pyplot as plt\n",
        "\n",
        "print(cv.__version__) # verify OpenCV version\n",
        "\n",
        "# figure and show\n",
        "def imshow(im, title=None):\n",
        "    im = im.squeeze()\n",
        "\n",
        "    # remove white paddings\n",
        "    fig = plt.figure()\n",
        "    # fig.canvas.window().statusBar().setVisible(False)\n",
        "\n",
        "    # display image\n",
        "    ax = plt.imshow(im, interpolation='bilinear')\n",
        "    plt.axis('off')\n",
        "    plt.tight_layout(pad=0)\n",
        "    plt.subplots_adjust(left=0, right=1, top=1, bottom=0, hspace=0, wspace=0)\n",
        "    plt.margins(0, 0)\n",
        "    plt.gca().xaxis.set_major_locator(plt.NullLocator())\n",
        "    plt.gca().yaxis.set_major_locator(plt.NullLocator())\n",
        "    if title is not None:\n",
        "        plt.title(title)\n",
        "        plt.subplots_adjust(left=0, right=1, top=0.9, bottom=0, hspace=0, wspace=0)\n",
        "    plt.show()\n",
        "    return fig\n",
        "\n",
        "# A 3x1 vector class extended from np.ndarray\n",
        "class Vec3(np.ndarray):\n",
        "    def __new__(cls, x, y=None, z=None):\n",
        "        if y is None and z is None:\n",
        "            data = np.array([x, x, x])\n",
        "        else:\n",
        "            data = np.array([x, y, z])\n",
        "        return data.view(cls)\n",
        "\n",
        "    # vector normal\n",
        "    def norm(self):\n",
        "        return np.linalg.norm(self)\n",
        "\n",
        "    # normalized vector\n",
        "    def normalize(self):\n",
        "        return self / self.norm()\n",
        "\n",
        "    # vector cross product\n",
        "    def cross(self, b):\n",
        "        return np.cross(self, b)"
      ],
      "execution_count": null,
      "outputs": [
        {
          "output_type": "stream",
          "text": [
            "3.4.2\n"
          ],
          "name": "stdout"
        }
      ]
    },
    {
      "cell_type": "markdown",
      "metadata": {
        "id": "hdhZr1B_Wvko"
      },
      "source": [
        "### Part 1: Compute camera intrinsic matrix and camera ray\n",
        "(15 points) Compute the 3x3 camera intrinsic matrix from the given camera image size, sensor size and focal length. Then, for each camera image pixel, we shoot a camera ray from the camera optical center (ray origin) and pass it through the pixel. Implement your alogrithm in `cam_ray_dir`. \n",
        "\n",
        "**Hint**: refer to slides, you will compute each camera ray direction using inverse of camera matrix.\n"
      ]
    },
    {
      "cell_type": "code",
      "metadata": {
        "colab": {
          "base_uri": "https://localhost:8080/"
        },
        "id": "Z45QddFWWRII",
        "outputId": "2929a5d5-c766-4761-9a7a-9aad7b5c9b4f"
      },
      "source": [
        "# create a perspective camera model. DO NOT MODIFY them\n",
        "cam_pos = Vec3(0, 0, 0)\n",
        "cam_h, cam_w = (500, 500)  # camera image size (pixel)\n",
        "sensor_h, sensor_w = (36, 36)  # camera sensor size (mm)\n",
        "focal_length = 50  # camera lens focal length (mm)\n",
        "\n",
        "fx, fy = (focal_length / sensor_w * cam_w, focal_length / sensor_h * cam_h)\n",
        "cx, cy = (cam_w / 2, cam_h / 2)\n",
        "cam_k = np.array([[fx, 0, cx], [0, fy, cy], [0, 0, 1]])  # camera intrinsics\n",
        "\n",
        "inv_cam_k = np.linalg.inv(cam_k)  # precompute inverse of camera intrinsics\n",
        "\n",
        "# compute the direction of the camera ray that passes through camera optical center (ray origin) and pixel (x, y)\n",
        "def cam_ray_dir(inv_cam_k, cam_pos, focal_length, x, y):\n",
        "  ray_dir = None\n",
        "\n",
        "  ##########--WRITE YOUR CODE HERE--##########\n",
        "  ray = (Vec3(x,y,1)[np.newaxis]).T\n",
        "\n",
        "  product_ray = focal_length * np.matmul(inv_cam_k,ray)\n",
        "\n",
        "  ray_dir = (product_ray.T - cam_pos).normalize()\n",
        "\n",
        "  ##########-------END OF CODE-------##########\n",
        "  return np.squeeze(ray_dir)\n",
        "\n",
        "print('camera intrinsics = \\n', cam_k)"
      ],
      "execution_count": null,
      "outputs": [
        {
          "output_type": "stream",
          "text": [
            "camera intrinsics = \n",
            " [[694.44444444   0.         250.        ]\n",
            " [  0.         694.44444444 250.        ]\n",
            " [  0.           0.           1.        ]]\n"
          ],
          "name": "stdout"
        }
      ]
    },
    {
      "cell_type": "markdown",
      "metadata": {
        "id": "IqByBVKMXYW4"
      },
      "source": [
        "### Part 2: Compute ray-object intersection\n",
        "(15 points) For each camera ray, you will compute the intersection point of the camera ray with each object in the scene and store the intersection information in an `Intersection` object. Implement sphere-ray intersections, plane-ray intersections and ray-scene intersections below."
      ]
    },
    {
      "cell_type": "code",
      "metadata": {
        "id": "QpMMWA71WLsa"
      },
      "source": [
        "# A class used to store ray-object intersection information\n",
        "class Intersection(object):\n",
        "    def __init__(self, point, distance, normal, obj):\n",
        "        self.p = point  # intersection point/position\n",
        "        self.d = distance  # distance between this intersection and ray origin\n",
        "        self.n = normal  # surface normal at this intersection\n",
        "        self.obj = obj  # which object this intersection belongs to\n",
        "\n",
        "# Light ray class\n",
        "class Ray(object):\n",
        "    def __init__(self, origin, direction):\n",
        "        self.o = origin\n",
        "        self.d = direction\n",
        "\n",
        "    # ray-object intersection\n",
        "    def intersect(self, obj):\n",
        "        return obj.intersect(self)\n",
        "\n",
        "    # ray intersect scene i.e., check intersections with all objects.\n",
        "    # return the closest if at lease one intersection, otherwise return none\n",
        "    def intersect_scene(self, scene, ignored_obj=None):\n",
        "        inter = None # returned inter is an instance of Intersection\n",
        "\n",
        "        ##########--WRITE YOUR CODE HERE--##########\n",
        "        for obj in scene:\n",
        "          dist = self.intersect(obj)\n",
        "          if dist is not None and (inter is None or dist.d <= inter.d):\n",
        "            inter  = Intersection(dist.p, dist.d, dist.n, obj)\n",
        "\n",
        "        ##########-------END OF CODE-------##########\n",
        "       \n",
        "        return inter\n",
        "\n",
        "# Sphere class\n",
        "class Sphere(object):\n",
        "    def __init__(self, center, radius, material=None):\n",
        "        self.c = center\n",
        "        self.r = radius\n",
        "        self.rr = radius ** 2  # precompute r^2 for faster ray casting\n",
        "        self.mat = material  # Phong material\n",
        "\n",
        "    def intersect(self, l):  # intersect with ray l\n",
        "        inter = None # returned inter is an instance of Intersection\n",
        "        # solve quadratic equation of ray-sphere intersection\n",
        "\n",
        "        ##########--WRITE YOUR CODE HERE--##########\n",
        "        sphere_to_ray = l.o - self.c\n",
        "        a = np.dot(l.d,l.d)\n",
        "        b = 2 * np.dot(l.d ,sphere_to_ray)\n",
        "        c = np.dot(sphere_to_ray,sphere_to_ray) - (self.rr)\n",
        "\n",
        "        discriminant = b ** 2 - 4 * a * c\n",
        "        \n",
        "        #print(discriminant)\n",
        "\n",
        "        if discriminant >= 0:\n",
        "          root1 = (-b - np.sqrt(discriminant)) / 2\n",
        "          root2 = (-b + np.sqrt(discriminant)) / 2\n",
        "\n",
        "          if root1 > 0 and root2 > 0 :\n",
        "            dist = np.abs(min(root1, root2))\n",
        "            intersectionPoint = l.o + l.d * dist\n",
        "            normal_to_surface = (intersectionPoint - self.c).normalize()\n",
        "            inter = Intersection(intersectionPoint, dist, normal_to_surface, self)\n",
        "\n",
        "        ##########-------END OF CODE-------##########\n",
        "        \n",
        "        return inter\n",
        "\n",
        "\n",
        "# Plane class\n",
        "class Plane(object):\n",
        "    def __init__(self, point, normal, material=None):\n",
        "        self.p = point  # a point on the plane\n",
        "        self.n = normal  # must be a normalized Vec3\n",
        "        self.mat = material  # Phong material\n",
        "\n",
        "    def intersect(self, l):  # intersect with ray l\n",
        "        inter = None # returned inter is an instance of Intersection\n",
        "\n",
        "        ##########--WRITE YOUR CODE HERE--##########\n",
        "        dist = np.dot((self.p - l.o),self.n)/ (np.dot(self.n, l.d))\n",
        "\n",
        "        if dist > 0:\n",
        "          intersectionPoint = l.o + (l.d * dist)\n",
        "          inter = Intersection(intersectionPoint, dist, self.n , self)\n",
        "\n",
        "        ##########-------END OF CODE-------##########\n",
        "\n",
        "        return inter"
      ],
      "execution_count": null,
      "outputs": []
    },
    {
      "cell_type": "markdown",
      "metadata": {
        "id": "3pqN9XguYHZb"
      },
      "source": [
        "### Part 3: Render a vanilla ray casting image\n",
        "(15 points) This part aims to help you sanity check the ray-object intersection algorithms above by rendering an image with `vanilla_ray_cast `. You will set a camera image pixel to (0.5,0.5,0.5) if its corresponding camera ray hits an object in the scene, otherwise set it to (0,0,0). You will compute the ray direction using `cam_ray_dir` and create a variable `ray` using `Ray(origin, dir)`, then `vanilla_ray_cast` will compute the current pixel color."
      ]
    },
    {
      "cell_type": "code",
      "metadata": {
        "colab": {
          "base_uri": "https://localhost:8080/",
          "height": 527
        },
        "id": "-Y64PmH1O-5m",
        "outputId": "1f89bf4e-a395-4542-e97c-9099d672f9a3"
      },
      "source": [
        "#  Only check if ray intersects the objects or not, does not computer color\n",
        "def vanilla_ray_cast(ray, objects):\n",
        "    inter = ray.intersect_scene(objects)\n",
        "    if inter is None:\n",
        "        color = Vec3(0, 0, 0)\n",
        "    else:\n",
        "        color = Vec3(1, 1, 1)*0.5\n",
        "    return color\n",
        "    \n",
        "# initialize scene with three spheres\n",
        "scene = []  # scene stores a list of objects\n",
        "scene.append(Sphere(Vec3(12, 9, 600), 50))\n",
        "scene.append(Sphere(Vec3(-30, 100, 550), 60))\n",
        "scene.append(Sphere(Vec3(80, 95, 630), 65))\n",
        "\n",
        "# camera captured image\n",
        "img = np.zeros((cam_h, cam_w, 3))\n",
        "\n",
        "# render using ray casting\n",
        "print('Ray casting...')\n",
        "for x in range(cam_w):  # for each col\n",
        "    if fmod(x, cam_w // 10) == 0:  # print ray casting progress\n",
        "        print('{:.2f}%'.format(x / cam_w * 100))\n",
        "    for y in range(cam_h):  # for each row\n",
        "\n",
        "        ##########--WRITE YOUR CODE HERE--##########     \n",
        "        ray_dir = cam_ray_dir(inv_cam_k, cam_pos, focal_length, x,y)\n",
        "\n",
        "        ray = Ray(cam_pos, ray_dir)\n",
        "        \n",
        "       \n",
        "\n",
        "       \n",
        "\n",
        "        ##########-------END OF CODE-------##########\n",
        "\n",
        "        color = vanilla_ray_cast(ray, scene)\n",
        "        img[y, x] = color\n",
        "\n",
        "# apply gamma correction (1/2.2) for display\n",
        "img = np.power(img, 1 / 2.2)\n",
        "imshow(img)\n",
        "cv.imwrite('vanilla_ray_cast.png', img[..., ::-1] * 255)\n",
        "\n"
      ],
      "execution_count": null,
      "outputs": [
        {
          "output_type": "stream",
          "text": [
            "Ray casting...\n",
            "0.00%\n",
            "10.00%\n",
            "20.00%\n",
            "30.00%\n",
            "40.00%\n",
            "50.00%\n",
            "60.00%\n",
            "70.00%\n",
            "80.00%\n",
            "90.00%\n"
          ],
          "name": "stdout"
        },
        {
          "output_type": "display_data",
          "data": {
            "image/png": "[encoded data removed]",
            "text/plain": [
              "<Figure size 432x288 with 1 Axes>"
            ]
          },
          "metadata": {
            "tags": []
          }
        },
        {
          "output_type": "execute_result",
          "data": {
            "text/plain": [
              "True"
            ]
          },
          "metadata": {
            "tags": []
          },
          "execution_count": 65
        }
      ]
    },
    {
      "cell_type": "markdown",
      "metadata": {
        "id": "ODICd6ZraNbS"
      },
      "source": [
        "### Part 4: Render a Lambertian ray casting image\n",
        "(15 points) If Part 3 is correctly implemented, you can estimate a simple lambertian shadings of the scene (add light, material but ignore shadow, ambient and specular). \n",
        "Implement your algorithm in `diffuseColor`. Since we are dealing with colors, Phong materials are created and each object is assigned with a material."
      ]
    },
    {
      "cell_type": "code",
      "metadata": {
        "colab": {
          "base_uri": "https://localhost:8080/",
          "height": 545
        },
        "id": "eckCzBy_qFfk",
        "outputId": "1ace8dff-9ddd-4ac6-d607-b9d8e7277002"
      },
      "source": [
        "# Light source (point light)\n",
        "class Light(object):\n",
        "    def __init__(self, position, power, ambient, diffuse, specular):\n",
        "        self.p = position  # position, Vec3\n",
        "        self.power = power  # light intensity/brightness\n",
        "        self.ambient = ambient\n",
        "        self.diffuse = diffuse\n",
        "        self.specular = specular\n",
        "\n",
        "# Phong diffuse (lambertian) color\n",
        "def diffuseColor(inter, light):\n",
        "    color = 0\n",
        "\n",
        "    ##########--WRITE YOUR CODE HERE--##########\n",
        "    light_dir_vector = (light.p - inter.p).normalize()\n",
        "    \n",
        "    color = inter.obj.mat['kd'] * np.dot(light_dir_vector, inter.n) * light.diffuse * light.power\n",
        "\n",
        "    ##########-------END OF CODE-------##########\n",
        "    \n",
        "    return color\n",
        "\n",
        "#  Only compute lambertian (diffuse) color, no ambient or shadow\n",
        "def lambertian_ray_cast(ray, objects, light):\n",
        "    inter = ray.intersect_scene(objects)\n",
        "    if inter is None:\n",
        "        color = Vec3(0, 0, 0)\n",
        "    else:\n",
        "        d = (light.p - inter.p).norm()\n",
        "        color = np.clip(diffuseColor(inter, light) / (4 * pi * d * d), 0, 1)\n",
        "    return color\n",
        "\n",
        "# Render\n",
        "# Phong illumination materials\n",
        "plaster_white = {'ka': Vec3(0.03), 'kd': Vec3(0.5), 'ks': Vec3(0.1), 'shine': 5}\n",
        "plaster_red = {'ka': Vec3(0.9, 0.1, 0.1) * 0.01, 'kd': Vec3(0.9, 0.1, 0.1), 'ks': Vec3(0.1), 'shine': 5}\n",
        "plaster_green = {'ka': Vec3(0.1, 0.9, 0.1) * 0.01, 'kd': Vec3(0.1, 0.9, 0.1), 'ks': Vec3(0.1), 'shine': 5}\n",
        "marble_white = {'ka': Vec3(0.01), 'kd': Vec3(0.8), 'ks': Vec3(1.0), 'shine': 200.0}\n",
        "marble_yellow = {'ka': Vec3(0.8, 0.8, 0.1) * 0.1, 'kd': Vec3(0.8, 0.8, 0.1), 'ks': Vec3(1.0), 'shine': 200.0}\n",
        "plastic_red = {'ka': Vec3(0.7, 0.1, 0.2) * 0.01, 'kd': Vec3(0.7, 0.1, 0.2), 'ks': Vec3(0.2), 'shine': 20}\n",
        "\n",
        "# initialize scene with spheres and a box\n",
        "scene = []  # scene stores a list of objects\n",
        "# a box\n",
        "scene.append(Plane(Vec3(0, -160, 0), Vec3(0, 1, 0), plaster_white))  # ceiling\n",
        "scene.append(Plane(Vec3(0, 160, 0), Vec3(0, -1, 0), plaster_white))  # floor\n",
        "scene.append(Plane(Vec3(-160, 0, 0), Vec3(1, 0, 0), plaster_red))  # left\n",
        "scene.append(Plane(Vec3(160, 0, 0), Vec3(-1, 0, 0), plaster_green))  # right\n",
        "scene.append(Plane(Vec3(0, 0, 780), Vec3(0, 0, -1), plaster_white))  # back\n",
        "# spheres\n",
        "scene.append(Sphere(Vec3(12, 9, 600), 50, marble_white))\n",
        "scene.append(Sphere(Vec3(-30, 100, 550), 60, marble_yellow))\n",
        "scene.append(Sphere(Vec3(80, 95, 630), 65, plastic_red))\n",
        "\n",
        "# initialize a point light\n",
        "light = Light(Vec3(-68, -68, 400), 300000, Vec3(1.0), Vec3(1.0), Vec3(1.0))\n",
        "\n",
        "# camera captured image\n",
        "img = np.zeros((cam_h, cam_w, 3))\n",
        "\n",
        "# render using ray casting\n",
        "print('Ray casting...')\n",
        "for x in range(cam_w):  # for each col\n",
        "    if fmod(x, cam_w // 10) == 0:  # print ray casting progress\n",
        "        print('{:.2f}%'.format(x / cam_w * 100))\n",
        "    for y in range(cam_h):  # for each row\n",
        "\n",
        "        ##########--WRITE YOUR CODE HERE--##########     \n",
        "        ray_dir = cam_ray_dir(inv_cam_k, cam_pos, focal_length, x,y)\n",
        "\n",
        "        ray = Ray(cam_pos, ray_dir)\n",
        "        \n",
        "\n",
        "\n",
        "\n",
        "        ##########-------END OF CODE-------##########\n",
        "\n",
        "        color = lambertian_ray_cast(ray, scene, light)\n",
        "        img[y, x] = color\n",
        "\n",
        "# apply gamma correction (1/2.2) for display\n",
        "img = np.power(img, 1 / 2.2)\n",
        "imshow(img)\n",
        "cv.imwrite('lambertian_ray_cast.png', img[..., ::-1] * 255)\n",
        "\n"
      ],
      "execution_count": null,
      "outputs": [
        {
          "output_type": "stream",
          "text": [
            "Ray casting...\n",
            "0.00%\n"
          ],
          "name": "stdout"
        },
        {
          "output_type": "stream",
          "text": [
            "/usr/local/lib/python3.7/dist-packages/ipykernel_launcher.py:82: RuntimeWarning: divide by zero encountered in true_divide\n"
          ],
          "name": "stderr"
        },
        {
          "output_type": "stream",
          "text": [
            "10.00%\n",
            "20.00%\n",
            "30.00%\n",
            "40.00%\n",
            "50.00%\n",
            "60.00%\n",
            "70.00%\n",
            "80.00%\n",
            "90.00%\n"
          ],
          "name": "stdout"
        },
        {
          "output_type": "display_data",
          "data": {
            "image/png": "[encoded data removed]",
            "text/plain": [
              "<Figure size 432x288 with 1 Axes>"
            ]
          },
          "metadata": {
            "tags": []
          }
        },
        {
          "output_type": "execute_result",
          "data": {
            "text/plain": [
              "True"
            ]
          },
          "metadata": {
            "tags": []
          },
          "execution_count": 67
        }
      ]
    },
    {
      "cell_type": "markdown",
      "metadata": {
        "id": "MzvdhAeOmhbs"
      },
      "source": [
        "## What's more?\n",
        "(0 points) For curious students\n",
        "\n",
        "1.   Is the above image photorealistic enough? How can we improve it?\n",
        "  *  Add more lights, materials and objects.\n",
        "  *  Add textures.\n",
        "  *  Render triangle mesh.\n",
        "  *  Acceleration techniques, e.g., depth clipping, bounding box, BVH, k-d tree, multithreading, GPU.\n",
        "  *  Antialiasing.\n",
        "  *  Depth of field.\n",
        "  *  Add transparency, inter-reflection, volume scattering, caustics, etc.\n",
        "\n",
        "\n",
        "2.   How do human visual systems tell whether an image is real or fake? Apparently shadow is an important cue.\n",
        "3.   Inverse problem: can we estimate lighting (direction and color), object surface normal, material and camera parameters from the image above?\n",
        "\n",
        "\n",
        "\n",
        "\n",
        "\n"
      ]
    },
    {
      "cell_type": "markdown",
      "metadata": {
        "id": "PhZehMVdL4mS"
      },
      "source": [
        "## Submission guidelines\n",
        "---\n",
        "Extract the downloaded .zip file to a folder of your preference. The input and output paths are predefined and **DO NOT** change them, (we assume that 'Surname_Givenname_SBUID_hw5' is your working directory, and all the paths are relative to this directory).  The image read and write functions are already written for you. All you need to do is to fill in the blanks as indicated to generate proper outputs. **DO NOT** zip and upload the dataset on blackboard due to size limit.\n",
        "\n",
        "When submitting your .zip file through blackboard, please\n",
        "-- name your .zip file as **Surname_Givenname_SBUID_hw*.zip**.\n",
        "\n",
        "This zip file should include:\n",
        "```\n",
        "Surname_Givenname_SBUID_hw*\n",
        "        |---Surname_Givenname_SBUID_hw*.ipynb\n",
        "        |---Surname_Givenname_SBUID_hw*.pdf\n",
        "```\n",
        "\n",
        "For instance, student Michael Jordan should submit a zip file named \"Lecun_Yann_111134567_hw5.zip\" for homework5 in this structure:\n",
        "```\n",
        "Lecun_Yann_111134567_hw5\n",
        "        |---Lecun_Yann_111134567_hw5.ipynb\n",
        "        |---Lecun_Yann_111134567_hw5.pdf\n",
        "```\n",
        "\n",
        "The **Surname_Givenname_SBUID_hw*.pdf** should include a **google shared link** and **Surname_Givenname_SBUID_Pred*.pdf** should be your test set prediction file in the specified format. To generate the **google shared link**, first create a folder named **Surname_Givenname_SBUID_hw*** in your Google Drive with your Stony Brook account. The structure of the files in the folder should be exactly the same as the one you downloaded. If you alter the folder structures, the grading of your homework will be significantly delayed and possibly penalized.\n",
        "\n",
        "Then right click this folder, click ***Get shareable link***, in the People textfield, enter TA's emails. Make sure that TAs who have the link **can edit**, ***not just*** **can view**, and also **uncheck** the **Notify people** box.\n",
        "\n",
        "Colab has a good feature of version control, you should take advantage of this to save your work properly. However, the timestamp of the submission made in blackboard is the only one that we consider for grading. To be more specific, we will only grade the version of your code right before the timestamp of the submission made in blackboard. \n",
        "\n",
        "You are encouraged to post and answer questions on Piazza. Based on the amount of email that we have received in past years, there might be dealys in replying to personal emails. Please ask questions on Piazza and send emails only for personal issues.\n",
        "\n",
        "Be aware that your code will undergo plagiarism check both vertically and horizontally. Please do your own work.\n",
        "\n",
        "**Late submission penalty:** <br>\n",
        "There will be a 10% penalty per day for late submission. However, you will have 4 days throughout the whole semester to submit late without penalty. Note that the grace period is calculated by days instead of hours. If you submit the homework one minute after the deadline, one late day will be counted. Likewise, if you submit one minute after the deadline, the 10% penaly will be imposed if not using the grace period.\n",
        "\n"
      ]
    }
  ]
}